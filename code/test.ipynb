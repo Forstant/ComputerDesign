{
 "cells": [
  {
   "cell_type": "code",
   "execution_count": 21,
   "metadata": {},
   "outputs": [],
   "source": [
    "import pandas as pd\n",
    "def load_data(path):\n",
    "    df = pd.read_csv(path)\n",
    "\n",
    "    for idx, row in df.iterrows():\n",
    "        row['review'] = row['review'].strip('\"')\n",
    "        # truncate the review string if it exceeds maximum length(512)\n",
    "        if(len(row['review']) > 512):\n",
    "            # add another row to the dataframe\n",
    "            df.loc[len(df)] = [row['review'][512:], row['label']]\n",
    "            row['review'] = row['review'][:512]\n",
    "        \n",
    "    return df"
   ]
  },
  {
   "cell_type": "code",
   "execution_count": 23,
   "metadata": {},
   "outputs": [
    {
     "name": "stdout",
     "output_type": "stream",
     "text": [
      "463\n"
     ]
    }
   ],
   "source": [
    "path = '../data/waimai_10k.csv'\n",
    "df = load_data(path)\n",
    "print(df['review'].str.len().max())"
   ]
  },
  {
   "cell_type": "code",
   "execution_count": 16,
   "metadata": {},
   "outputs": [
    {
     "name": "stdout",
     "output_type": "stream",
     "text": [
      "0 label                1\n",
      "review    很快，好吃，味道足，量大\n",
      "Name: 0, dtype: object\n"
     ]
    }
   ],
   "source": [
    "for idx, row in df.iterrows():\n",
    "    print(idx, row)\n",
    "    break\n",
    "    "
   ]
  },
  {
   "cell_type": "code",
   "execution_count": 13,
   "metadata": {},
   "outputs": [
    {
     "name": "stdout",
     "output_type": "stream",
     "text": [
      "8\n",
      "6\n"
     ]
    }
   ],
   "source": [
    "a = '\"adndxa\"'\n",
    "print(len(a))\n",
    "a = a.strip('\"')\n",
    "print(len(a))"
   ]
  }
 ],
 "metadata": {
  "kernelspec": {
   "display_name": "env1",
   "language": "python",
   "name": "python3"
  },
  "language_info": {
   "codemirror_mode": {
    "name": "ipython",
    "version": 3
   },
   "file_extension": ".py",
   "mimetype": "text/x-python",
   "name": "python",
   "nbconvert_exporter": "python",
   "pygments_lexer": "ipython3",
   "version": "3.10.9"
  },
  "orig_nbformat": 4
 },
 "nbformat": 4,
 "nbformat_minor": 2
}
